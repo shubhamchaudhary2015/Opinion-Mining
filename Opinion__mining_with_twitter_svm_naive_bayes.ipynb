{
  "nbformat": 4,
  "nbformat_minor": 0,
  "metadata": {
    "colab": {
      "name": "Opinion _mining_with twitter_svm_naive_bayes.ipynb",
      "provenance": []
    },
    "kernelspec": {
      "name": "python3",
      "display_name": "Python 3"
    }
  },
  "cells": [
    {
      "cell_type": "code",
      "metadata": {
        "id": "_D8d-bVH6_-i",
        "colab_type": "code",
        "colab": {}
      },
      "source": [
        "# DataFrame\n",
        "import pandas as pd\n",
        "\n",
        "# Matplot\n",
        "import matplotlib.pyplot as plt\n",
        "%matplotlib inline\n",
        "\n",
        "# Scikit-learn\n",
        "from sklearn.model_selection import train_test_split\n",
        "from sklearn.preprocessing import LabelEncoder\n",
        "from sklearn.metrics import confusion_matrix, classification_report, accuracy_score\n",
        "from sklearn.manifold import TSNE\n",
        "from sklearn.feature_extraction.text import TfidfVectorizer\n",
        "\n",
        "from sklearn.svm import SVC\n",
        "from sklearn.svm import LinearSVC\n",
        "from sklearn.datasets import make_classification\n",
        "from sklearn import datasets, svm\n",
        "from sklearn.kernel_approximation import Nystroem\n",
        "from sklearn.metrics import roc_auc_score\n",
        "from sklearn.metrics import confusion_matrix, classification_report\n",
        "\n",
        "# nltk\n",
        "import nltk\n",
        "from nltk.corpus import stopwords\n",
        "from  nltk.stem import SnowballStemmer\n",
        "\n",
        "# Word2vec\n",
        "import gensim\n",
        "\n",
        "# Utility\n",
        "import re\n",
        "import numpy as np\n",
        "import os\n",
        "from collections import Counter\n",
        "import logging\n",
        "import time\n",
        "import pickle\n",
        "import itertools"
      ],
      "execution_count": 0,
      "outputs": []
    },
    {
      "cell_type": "code",
      "metadata": {
        "id": "p-QzUtYy6K9i",
        "colab_type": "code",
        "colab": {}
      },
      "source": [
        "import numpy as np # linear algebra\n",
        "import pandas as pd"
      ],
      "execution_count": 0,
      "outputs": []
    },
    {
      "cell_type": "code",
      "metadata": {
        "id": "LAxzpRXpLXMZ",
        "colab_type": "code",
        "colab": {}
      },
      "source": [
        "# DATASET\n",
        "DATASET_COLUMNS = [\"target\", \"ids\", \"date\", \"flag\", \"user\", \"text\"]\n",
        "DATASET_ENCODING = \"ISO-8859-1\"\n",
        "TRAIN_SIZE = 0.8\n",
        "\n",
        "\n",
        "# TEXT CLENAING\n",
        "TEXT_CLEANING_RE = \"@\\S+|https?:\\S+|http?:\\S|[^A-Za-z0-9]+\""
      ],
      "execution_count": 0,
      "outputs": []
    },
    {
      "cell_type": "code",
      "metadata": {
        "id": "aokLvtWiLaNU",
        "colab_type": "code",
        "outputId": "5fb0a7e8-236a-476b-e5ff-7b96c70dad7c",
        "colab": {
          "base_uri": "https://localhost:8080/",
          "height": 35
        }
      },
      "source": [
        "dataset_path = \"/content/drive/My Drive/training.1600000.processed.noemoticon.csv\"\n",
        "print(\"Open file:\", dataset_path)\n",
        "df = pd.read_csv(dataset_path, encoding =DATASET_ENCODING , names=DATASET_COLUMNS)"
      ],
      "execution_count": 0,
      "outputs": [
        {
          "output_type": "stream",
          "text": [
            "Open file: /content/drive/My Drive/training.1600000.processed.noemoticon.csv\n"
          ],
          "name": "stdout"
        }
      ]
    },
    {
      "cell_type": "code",
      "metadata": {
        "id": "lr1AzWXqLdfZ",
        "colab_type": "code",
        "outputId": "180d5e42-3662-4419-a2ae-fb05e31a9209",
        "colab": {
          "base_uri": "https://localhost:8080/",
          "height": 53
        }
      },
      "source": [
        "# nltk\n",
        "import nltk\n",
        "nltk.download('stopwords')\n",
        "from nltk.corpus import stopwords\n",
        "from  nltk.stem import SnowballStemmer"
      ],
      "execution_count": 0,
      "outputs": [
        {
          "output_type": "stream",
          "text": [
            "[nltk_data] Downloading package stopwords to /root/nltk_data...\n",
            "[nltk_data]   Unzipping corpora/stopwords.zip.\n"
          ],
          "name": "stdout"
        }
      ]
    },
    {
      "cell_type": "code",
      "metadata": {
        "id": "d55PhTnuLg7l",
        "colab_type": "code",
        "colab": {}
      },
      "source": [
        "stop_words = stopwords.words(\"english\")\n",
        "stemmer = SnowballStemmer(\"english\")"
      ],
      "execution_count": 0,
      "outputs": []
    },
    {
      "cell_type": "code",
      "metadata": {
        "id": "8NvJ2FkjMVF5",
        "colab_type": "code",
        "colab": {}
      },
      "source": [
        "def preprocess(text, stem=False):\n",
        "    # Remove link,user and special characters\n",
        "    text = re.sub(TEXT_CLEANING_RE, ' ', str(text).lower()).strip()  \n",
        "    ''''In re. sub() , specify a regular expression pattern in the first argument,\n",
        "     a new string in the second argument, and a string to be processed in the third argument'''\n",
        "    tokens = []\n",
        "    for token in text.split():\n",
        "      if token not in stop_words:\n",
        "          if stem:\n",
        "            tokens.append(stemmer.stem(token))\n",
        "          else:\n",
        "            tokens.append(token)\n",
        "    return \" \".join(tokens)"
      ],
      "execution_count": 0,
      "outputs": []
    },
    {
      "cell_type": "code",
      "metadata": {
        "id": "xmhUG4JyMd2p",
        "colab_type": "code",
        "colab": {}
      },
      "source": [
        "#Here I am preprocessing the entire dataset\n",
        "df.text = df.text.apply(lambda x: preprocess(x))"
      ],
      "execution_count": 0,
      "outputs": []
    },
    {
      "cell_type": "code",
      "metadata": {
        "id": "TFPppGdMOb7f",
        "colab_type": "code",
        "outputId": "d1042f1a-cb8b-4937-c350-3536c94b0aa8",
        "colab": {
          "base_uri": "https://localhost:8080/",
          "height": 206
        }
      },
      "source": [
        "df.head(5)"
      ],
      "execution_count": 0,
      "outputs": [
        {
          "output_type": "execute_result",
          "data": {
            "text/html": [
              "<div>\n",
              "<style scoped>\n",
              "    .dataframe tbody tr th:only-of-type {\n",
              "        vertical-align: middle;\n",
              "    }\n",
              "\n",
              "    .dataframe tbody tr th {\n",
              "        vertical-align: top;\n",
              "    }\n",
              "\n",
              "    .dataframe thead th {\n",
              "        text-align: right;\n",
              "    }\n",
              "</style>\n",
              "<table border=\"1\" class=\"dataframe\">\n",
              "  <thead>\n",
              "    <tr style=\"text-align: right;\">\n",
              "      <th></th>\n",
              "      <th>target</th>\n",
              "      <th>ids</th>\n",
              "      <th>date</th>\n",
              "      <th>flag</th>\n",
              "      <th>user</th>\n",
              "      <th>text</th>\n",
              "    </tr>\n",
              "  </thead>\n",
              "  <tbody>\n",
              "    <tr>\n",
              "      <th>0</th>\n",
              "      <td>0</td>\n",
              "      <td>1467810369</td>\n",
              "      <td>Mon Apr 06 22:19:45 PDT 2009</td>\n",
              "      <td>NO_QUERY</td>\n",
              "      <td>_TheSpecialOne_</td>\n",
              "      <td>awww bummer shoulda got david carr third day</td>\n",
              "    </tr>\n",
              "    <tr>\n",
              "      <th>1</th>\n",
              "      <td>0</td>\n",
              "      <td>1467810672</td>\n",
              "      <td>Mon Apr 06 22:19:49 PDT 2009</td>\n",
              "      <td>NO_QUERY</td>\n",
              "      <td>scotthamilton</td>\n",
              "      <td>upset update facebook texting might cry result...</td>\n",
              "    </tr>\n",
              "    <tr>\n",
              "      <th>2</th>\n",
              "      <td>0</td>\n",
              "      <td>1467810917</td>\n",
              "      <td>Mon Apr 06 22:19:53 PDT 2009</td>\n",
              "      <td>NO_QUERY</td>\n",
              "      <td>mattycus</td>\n",
              "      <td>dived many times ball managed save 50 rest go ...</td>\n",
              "    </tr>\n",
              "    <tr>\n",
              "      <th>3</th>\n",
              "      <td>0</td>\n",
              "      <td>1467811184</td>\n",
              "      <td>Mon Apr 06 22:19:57 PDT 2009</td>\n",
              "      <td>NO_QUERY</td>\n",
              "      <td>ElleCTF</td>\n",
              "      <td>whole body feels itchy like fire</td>\n",
              "    </tr>\n",
              "    <tr>\n",
              "      <th>4</th>\n",
              "      <td>0</td>\n",
              "      <td>1467811193</td>\n",
              "      <td>Mon Apr 06 22:19:57 PDT 2009</td>\n",
              "      <td>NO_QUERY</td>\n",
              "      <td>Karoli</td>\n",
              "      <td>behaving mad see</td>\n",
              "    </tr>\n",
              "  </tbody>\n",
              "</table>\n",
              "</div>"
            ],
            "text/plain": [
              "   target  ...                                               text\n",
              "0       0  ...       awww bummer shoulda got david carr third day\n",
              "1       0  ...  upset update facebook texting might cry result...\n",
              "2       0  ...  dived many times ball managed save 50 rest go ...\n",
              "3       0  ...                   whole body feels itchy like fire\n",
              "4       0  ...                                   behaving mad see\n",
              "\n",
              "[5 rows x 6 columns]"
            ]
          },
          "metadata": {
            "tags": []
          },
          "execution_count": 9
        }
      ]
    },
    {
      "cell_type": "code",
      "metadata": {
        "id": "tnwDtheZOgj6",
        "colab_type": "code",
        "colab": {}
      },
      "source": [
        "tf=df.sample(n=1600000)"
      ],
      "execution_count": 0,
      "outputs": []
    },
    {
      "cell_type": "code",
      "metadata": {
        "id": "lG5mRkFFOoHD",
        "colab_type": "code",
        "colab": {}
      },
      "source": [
        "stopset=set(stopwords.words(\"english\"))\n",
        "vectorizer =TfidfVectorizer(use_idf=True,lowercase=True,strip_accents='ascii',stop_words=stopset)"
      ],
      "execution_count": 0,
      "outputs": []
    },
    {
      "cell_type": "code",
      "metadata": {
        "id": "Ngja1lj-Phst",
        "colab_type": "code",
        "colab": {}
      },
      "source": [
        "y=tf.target"
      ],
      "execution_count": 0,
      "outputs": []
    },
    {
      "cell_type": "code",
      "metadata": {
        "id": "wRvDomdUPx24",
        "colab_type": "code",
        "colab": {}
      },
      "source": [
        "x=vectorizer.fit_transform(tf.text)"
      ],
      "execution_count": 0,
      "outputs": []
    },
    {
      "cell_type": "code",
      "metadata": {
        "id": "of2ie4uDQJ6k",
        "colab_type": "code",
        "colab": {}
      },
      "source": [
        "x_train,x_test,y_train,y_test=train_test_split(x,y,train_size=0.7,random_state=42)"
      ],
      "execution_count": 0,
      "outputs": []
    },
    {
      "cell_type": "code",
      "metadata": {
        "id": "26uttdR-qm7g",
        "colab_type": "code",
        "colab": {}
      },
      "source": [
        "target_names = ['Negative', 'Positive']"
      ],
      "execution_count": 0,
      "outputs": []
    },
    {
      "cell_type": "code",
      "metadata": {
        "id": "KkvyF-s30pS3",
        "colab_type": "code",
        "colab": {}
      },
      "source": [
        "clf = LinearSVC(penalty='l2',random_state=0, tol=1e-5)"
      ],
      "execution_count": 0,
      "outputs": []
    },
    {
      "cell_type": "code",
      "metadata": {
        "id": "aPTplIcC1-jb",
        "colab_type": "code",
        "outputId": "b0f50116-dff5-43a6-a8dd-f00a54346b75",
        "colab": {
          "base_uri": "https://localhost:8080/",
          "height": 88
        }
      },
      "source": [
        "clf.fit(x_train,y_train)"
      ],
      "execution_count": 0,
      "outputs": [
        {
          "output_type": "execute_result",
          "data": {
            "text/plain": [
              "LinearSVC(C=1.0, class_weight=None, dual=True, fit_intercept=True,\n",
              "          intercept_scaling=1, loss='squared_hinge', max_iter=1000,\n",
              "          multi_class='ovr', penalty='l2', random_state=0, tol=1e-05,\n",
              "          verbose=0)"
            ]
          },
          "metadata": {
            "tags": []
          },
          "execution_count": 18
        }
      ]
    },
    {
      "cell_type": "code",
      "metadata": {
        "id": "0P_pQivH2Vjm",
        "colab_type": "code",
        "colab": {}
      },
      "source": [
        "predicted_value=clf.predict(x_test)"
      ],
      "execution_count": 0,
      "outputs": []
    },
    {
      "cell_type": "code",
      "metadata": {
        "id": "UfQnbeUC34q0",
        "colab_type": "code",
        "colab": {}
      },
      "source": [
        "real=y_test.to_list()"
      ],
      "execution_count": 0,
      "outputs": []
    },
    {
      "cell_type": "code",
      "metadata": {
        "id": "ZXOaP1ti29d7",
        "colab_type": "code",
        "outputId": "6bfc5970-06c5-4f64-ee38-864b7c55fe8b",
        "colab": {
          "base_uri": "https://localhost:8080/",
          "height": 196
        }
      },
      "source": [
        "print(\"For tfidf+Linear SVC\")\n",
        "print(classification_report(real, predicted_value,target_names=target_names))"
      ],
      "execution_count": 0,
      "outputs": [
        {
          "output_type": "stream",
          "text": [
            "For tfidf+Linear SVC\n",
            "              precision    recall  f1-score   support\n",
            "\n",
            "    Negative       0.78      0.75      0.77    239925\n",
            "    Positive       0.76      0.79      0.78    240075\n",
            "\n",
            "    accuracy                           0.77    480000\n",
            "   macro avg       0.77      0.77      0.77    480000\n",
            "weighted avg       0.77      0.77      0.77    480000\n",
            "\n"
          ],
          "name": "stdout"
        }
      ]
    },
    {
      "cell_type": "markdown",
      "metadata": {
        "id": "-5eGg6wYVPBz",
        "colab_type": "text"
      },
      "source": [
        "Below is the approcah for Naive Bayes"
      ]
    },
    {
      "cell_type": "code",
      "metadata": {
        "id": "0yWEFlZxKaYQ",
        "colab_type": "code",
        "colab": {}
      },
      "source": [
        "tf=df.sample(n=1600000)"
      ],
      "execution_count": 0,
      "outputs": []
    },
    {
      "cell_type": "code",
      "metadata": {
        "id": "wO7V0PhUK25a",
        "colab_type": "code",
        "colab": {}
      },
      "source": [
        "x_trainN, x_testN, y_trainN, y_testN = train_test_split(x, y, test_size=0.3, random_state=42)"
      ],
      "execution_count": 0,
      "outputs": []
    },
    {
      "cell_type": "code",
      "metadata": {
        "id": "7ibfx7x0S1i4",
        "colab_type": "code",
        "outputId": "1ef9e941-289a-4b02-e760-e7ad33160732",
        "colab": {
          "base_uri": "https://localhost:8080/",
          "height": 35
        }
      },
      "source": [
        "from sklearn import naive_bayes\n",
        "Naive = naive_bayes.MultinomialNB()\n",
        "Naive.fit(x_trainN,y_trainN)"
      ],
      "execution_count": 0,
      "outputs": [
        {
          "output_type": "execute_result",
          "data": {
            "text/plain": [
              "MultinomialNB(alpha=1.0, class_prior=None, fit_prior=True)"
            ]
          },
          "metadata": {
            "tags": []
          },
          "execution_count": 24
        }
      ]
    },
    {
      "cell_type": "code",
      "metadata": {
        "id": "Tp3zJsi-TzUs",
        "colab_type": "code",
        "colab": {}
      },
      "source": [
        "prediction_N=Naive.predict(x_testN)"
      ],
      "execution_count": 0,
      "outputs": []
    },
    {
      "cell_type": "code",
      "metadata": {
        "id": "Ixxrp3FNUE8p",
        "colab_type": "code",
        "outputId": "f0eb90d4-78f7-4380-f4dd-50b113aeb7f0",
        "colab": {
          "base_uri": "https://localhost:8080/",
          "height": 196
        }
      },
      "source": [
        "print(\"This is for tfidf(unigram)+Naive Bayes\")\n",
        "print(classification_report(prediction_N,y_testN,target_names=target_names))"
      ],
      "execution_count": 0,
      "outputs": [
        {
          "output_type": "stream",
          "text": [
            "This is for tfidf(unigram)+Naive Bayes\n",
            "              precision    recall  f1-score   support\n",
            "\n",
            "    Negative       0.78      0.75      0.77    247970\n",
            "    Positive       0.74      0.77      0.76    232030\n",
            "\n",
            "    accuracy                           0.76    480000\n",
            "   macro avg       0.76      0.76      0.76    480000\n",
            "weighted avg       0.76      0.76      0.76    480000\n",
            "\n"
          ],
          "name": "stdout"
        }
      ]
    },
    {
      "cell_type": "code",
      "metadata": {
        "id": "5j8bzdGXlqKz",
        "colab_type": "code",
        "colab": {}
      },
      "source": [
        "#Below is the approach for n gram\n",
        "stopset=set(stopwords.words(\"english\"))\n",
        "vectorizer =TfidfVectorizer(use_idf=True,lowercase=True,strip_accents='ascii',stop_words=stopset,ngram_range=(1,2))"
      ],
      "execution_count": 0,
      "outputs": []
    },
    {
      "cell_type": "code",
      "metadata": {
        "id": "9YJ_GG31l9ty",
        "colab_type": "code",
        "colab": {}
      },
      "source": [
        "y=tf.target\n",
        "x=vectorizer.fit_transform(tf.text)"
      ],
      "execution_count": 0,
      "outputs": []
    },
    {
      "cell_type": "code",
      "metadata": {
        "id": "0PZcalYvmZ71",
        "colab_type": "code",
        "colab": {}
      },
      "source": [
        "x_train,x_test,y_train,y_test=train_test_split(x,y,train_size=0.7,random_state=42)"
      ],
      "execution_count": 0,
      "outputs": []
    },
    {
      "cell_type": "code",
      "metadata": {
        "id": "gVRImxHM6g4I",
        "colab_type": "code",
        "colab": {}
      },
      "source": [
        "x_trainN, x_testN, y_trainN, y_testN = train_test_split(x, y, test_size=0.3, random_state=42)"
      ],
      "execution_count": 0,
      "outputs": []
    },
    {
      "cell_type": "code",
      "metadata": {
        "id": "4DF4uBmumhEZ",
        "colab_type": "code",
        "colab": {}
      },
      "source": [
        "target_names = ['Negative', 'Positive']"
      ],
      "execution_count": 0,
      "outputs": []
    },
    {
      "cell_type": "code",
      "metadata": {
        "id": "m1pVyGo4mkJi",
        "colab_type": "code",
        "colab": {}
      },
      "source": [
        "clf = LinearSVC(penalty='l2',random_state=0, tol=1e-5)"
      ],
      "execution_count": 0,
      "outputs": []
    },
    {
      "cell_type": "code",
      "metadata": {
        "id": "mY94bDkJmorW",
        "colab_type": "code",
        "outputId": "5168355b-768b-468b-d120-af847f67b236",
        "colab": {
          "base_uri": "https://localhost:8080/",
          "height": 88
        }
      },
      "source": [
        "clf.fit(x_train,y_train)"
      ],
      "execution_count": 0,
      "outputs": [
        {
          "output_type": "execute_result",
          "data": {
            "text/plain": [
              "LinearSVC(C=1.0, class_weight=None, dual=True, fit_intercept=True,\n",
              "          intercept_scaling=1, loss='squared_hinge', max_iter=1000,\n",
              "          multi_class='ovr', penalty='l2', random_state=0, tol=1e-05,\n",
              "          verbose=0)"
            ]
          },
          "metadata": {
            "tags": []
          },
          "execution_count": 34
        }
      ]
    },
    {
      "cell_type": "code",
      "metadata": {
        "id": "6YO6Al42mxm2",
        "colab_type": "code",
        "colab": {}
      },
      "source": [
        "predicted_value=clf.predict(x_test)\n",
        "real=y_test.to_list()"
      ],
      "execution_count": 0,
      "outputs": []
    },
    {
      "cell_type": "code",
      "metadata": {
        "id": "htZgveEDm4kw",
        "colab_type": "code",
        "outputId": "51d810d9-e632-47bb-a871-fa1e5b2f3ee5",
        "colab": {
          "base_uri": "https://localhost:8080/",
          "height": 196
        }
      },
      "source": [
        "print(\"For tfidf+(unigram_bigram)+Linear SVC\")\n",
        "print(classification_report(real, predicted_value,target_names=target_names))"
      ],
      "execution_count": 0,
      "outputs": [
        {
          "output_type": "stream",
          "text": [
            "For tfidf+(unigram_bigram)+Linear SVC\n",
            "              precision    recall  f1-score   support\n",
            "\n",
            "    Negative       0.80      0.76      0.78    239714\n",
            "    Positive       0.77      0.80      0.79    240286\n",
            "\n",
            "    accuracy                           0.78    480000\n",
            "   macro avg       0.78      0.78      0.78    480000\n",
            "weighted avg       0.78      0.78      0.78    480000\n",
            "\n"
          ],
          "name": "stdout"
        }
      ]
    },
    {
      "cell_type": "code",
      "metadata": {
        "id": "7u3pNpIV6SLp",
        "colab_type": "code",
        "outputId": "fdd87ded-ba70-40c3-978f-6fbf774d79cc",
        "colab": {
          "base_uri": "https://localhost:8080/",
          "height": 35
        }
      },
      "source": [
        "Naive = naive_bayes.MultinomialNB()\n",
        "Naive.fit(x_trainN,y_trainN)"
      ],
      "execution_count": 0,
      "outputs": [
        {
          "output_type": "execute_result",
          "data": {
            "text/plain": [
              "MultinomialNB(alpha=1.0, class_prior=None, fit_prior=True)"
            ]
          },
          "metadata": {
            "tags": []
          },
          "execution_count": 37
        }
      ]
    },
    {
      "cell_type": "code",
      "metadata": {
        "id": "REBkUOBl6V2E",
        "colab_type": "code",
        "colab": {}
      },
      "source": [
        "prediction_N=Naive.predict(x_testN)"
      ],
      "execution_count": 0,
      "outputs": []
    },
    {
      "cell_type": "code",
      "metadata": {
        "id": "zDYiapFL6YtL",
        "colab_type": "code",
        "outputId": "12f5083c-2a09-4815-e29c-251de4445929",
        "colab": {
          "base_uri": "https://localhost:8080/",
          "height": 196
        }
      },
      "source": [
        "print(\"This is for tfidf(unigram+bigram)+Naive Bayes\")\n",
        "print(classification_report(prediction_N,y_testN,target_names=target_names))"
      ],
      "execution_count": 0,
      "outputs": [
        {
          "output_type": "stream",
          "text": [
            "This is for tfidf(unigram+bigram)+Naive Bayes\n",
            "              precision    recall  f1-score   support\n",
            "\n",
            "    Negative       0.80      0.77      0.78    249626\n",
            "    Positive       0.76      0.79      0.77    230374\n",
            "\n",
            "    accuracy                           0.78    480000\n",
            "   macro avg       0.78      0.78      0.78    480000\n",
            "weighted avg       0.78      0.78      0.78    480000\n",
            "\n"
          ],
          "name": "stdout"
        }
      ]
    }
  ]
}